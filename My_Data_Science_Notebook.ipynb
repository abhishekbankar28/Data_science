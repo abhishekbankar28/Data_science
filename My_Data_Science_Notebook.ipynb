{
 "cells": [
  {
   "cell_type": "code",
   "execution_count": null,
   "id": "cb9b6585",
   "metadata": {},
   "outputs": [],
   "source": [
    "# My Data Science Notebook\n"
   ]
  },
  {
   "cell_type": "code",
   "execution_count": null,
   "id": "a5278920",
   "metadata": {},
   "outputs": [],
   "source": [
    "## Introduction\n",
    "This notebook demonstrates basic data science concepts, from languages and libraries to arithmetic operations and tools.\n"
   ]
  },
  {
   "cell_type": "code",
   "execution_count": null,
   "id": "a81b7a8b",
   "metadata": {},
   "outputs": [],
   "source": []
  },
  {
   "cell_type": "code",
   "execution_count": null,
   "id": "261a47ca",
   "metadata": {},
   "outputs": [],
   "source": [
    "## Data Science Languages\n",
    "- Python\n",
    "- R\n",
    "- SQL\n"
   ]
  },
  {
   "cell_type": "code",
   "execution_count": null,
   "id": "035a1562",
   "metadata": {},
   "outputs": [],
   "source": []
  },
  {
   "cell_type": "code",
   "execution_count": null,
   "id": "95c89bd1",
   "metadata": {},
   "outputs": [],
   "source": [
    "## Data Science Libraries\n",
    "- Pandas\n",
    "- NumPy\n",
    "- Scikit-learn\n",
    "- TensorFlow\n",
    "- ggplot2\n"
   ]
  },
  {
   "cell_type": "code",
   "execution_count": null,
   "id": "c0e09ef8",
   "metadata": {},
   "outputs": [],
   "source": []
  },
  {
   "cell_type": "code",
   "execution_count": null,
   "id": "5b6f1cb4",
   "metadata": {},
   "outputs": [],
   "source": [
    "## Data Science Tools\n",
    "\n",
    "Jupyter Notebook: Interactive computing environment  \n",
    "RStudio: IDE for R programming  \n",
    "GitHub: Version control and collaboration  \n",
    "IBM Watson Studio: Cloud-based data science platform\n"
   ]
  },
  {
   "cell_type": "code",
   "execution_count": null,
   "id": "f0779ef4",
   "metadata": {},
   "outputs": [],
   "source": []
  },
  {
   "cell_type": "code",
   "execution_count": null,
   "id": "2e0c5c51",
   "metadata": {},
   "outputs": [],
   "source": [
    "## Arithmetic Expression Examples\n",
    "Below are some examples of arithmetic expressions implemented in Python.\n"
   ]
  },
  {
   "cell_type": "code",
   "execution_count": null,
   "id": "8504d588",
   "metadata": {},
   "outputs": [],
   "source": []
  },
  {
   "cell_type": "code",
   "execution_count": 16,
   "id": "d633d0b2",
   "metadata": {},
   "outputs": [
    {
     "name": "stdout",
     "output_type": "stream",
     "text": [
      "The result is: 42\n"
     ]
    }
   ],
   "source": [
    "# Multiply and add numbers\n",
    "result = (3 * 4) + (5 * 6)\n",
    "print(\"The result is:\", result)\n"
   ]
  },
  {
   "cell_type": "code",
   "execution_count": null,
   "id": "b886f32e",
   "metadata": {},
   "outputs": [],
   "source": []
  },
  {
   "cell_type": "code",
   "execution_count": 18,
   "id": "c80be100",
   "metadata": {},
   "outputs": [
    {
     "name": "stdout",
     "output_type": "stream",
     "text": [
      "150 minutes is equal to 2.5 hours.\n"
     ]
    }
   ],
   "source": [
    "# Convert minutes to hours\n",
    "minutes = 150\n",
    "hours = minutes / 60\n",
    "print(\"150 minutes is equal to\", hours, \"hours.\")\n"
   ]
  },
  {
   "cell_type": "code",
   "execution_count": null,
   "id": "7f335f3a",
   "metadata": {},
   "outputs": [],
   "source": []
  },
  {
   "cell_type": "code",
   "execution_count": null,
   "id": "fd93bc1b",
   "metadata": {},
   "outputs": [],
   "source": [
    "## Objectives\n",
    "- Understand markdown and code cells in Jupyter Notebook.\n",
    "- List common data science languages and libraries.\n",
    "- Demonstrate basic arithmetic operations in Python.\n",
    "- Familiarize with data science tools.\n"
   ]
  },
  {
   "cell_type": "code",
   "execution_count": null,
   "id": "be9b0b12",
   "metadata": {},
   "outputs": [],
   "source": []
  },
  {
   "cell_type": "code",
   "execution_count": null,
   "id": "90c4002d",
   "metadata": {},
   "outputs": [],
   "source": [
    "\n",
    "## Author\n",
    "Abhishek Bankar\n",
    "https://github.com/abhishekbankar28"
   ]
  },
  {
   "cell_type": "code",
   "execution_count": null,
   "id": "4a617863",
   "metadata": {},
   "outputs": [],
   "source": []
  },
  {
   "cell_type": "code",
   "execution_count": null,
   "id": "06e574ce",
   "metadata": {},
   "outputs": [],
   "source": []
  }
 ],
 "metadata": {
  "kernelspec": {
   "display_name": "Python 3 (ipykernel)",
   "language": "python",
   "name": "python3"
  },
  "language_info": {
   "codemirror_mode": {
    "name": "ipython",
    "version": 3
   },
   "file_extension": ".py",
   "mimetype": "text/x-python",
   "name": "python",
   "nbconvert_exporter": "python",
   "pygments_lexer": "ipython3",
   "version": "3.11.5"
  }
 },
 "nbformat": 4,
 "nbformat_minor": 5
}
